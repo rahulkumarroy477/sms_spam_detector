{
 "cells": [
  {
   "cell_type": "code",
   "execution_count": 1,
   "metadata": {},
   "outputs": [],
   "source": [
    "import pandas as pd\n",
    "import numpy as np"
   ]
  },
  {
   "cell_type": "code",
   "execution_count": 2,
   "metadata": {},
   "outputs": [],
   "source": [
    "# df = pd.read_csv('spam.csv')     cannot be used due to utf-8' codec can't decode bytes\n",
    "df = pd.read_csv('spam.csv', encoding='latin1') "
   ]
  },
  {
   "cell_type": "code",
   "execution_count": 3,
   "metadata": {},
   "outputs": [
    {
     "data": {
      "text/html": [
       "<div>\n",
       "<style scoped>\n",
       "    .dataframe tbody tr th:only-of-type {\n",
       "        vertical-align: middle;\n",
       "    }\n",
       "\n",
       "    .dataframe tbody tr th {\n",
       "        vertical-align: top;\n",
       "    }\n",
       "\n",
       "    .dataframe thead th {\n",
       "        text-align: right;\n",
       "    }\n",
       "</style>\n",
       "<table border=\"1\" class=\"dataframe\">\n",
       "  <thead>\n",
       "    <tr style=\"text-align: right;\">\n",
       "      <th></th>\n",
       "      <th>v1</th>\n",
       "      <th>v2</th>\n",
       "      <th>Unnamed: 2</th>\n",
       "      <th>Unnamed: 3</th>\n",
       "      <th>Unnamed: 4</th>\n",
       "    </tr>\n",
       "  </thead>\n",
       "  <tbody>\n",
       "    <tr>\n",
       "      <th>656</th>\n",
       "      <td>ham</td>\n",
       "      <td>Sun cant come to earth but send luv as rays. c...</td>\n",
       "      <td>NaN</td>\n",
       "      <td>NaN</td>\n",
       "      <td>NaN</td>\n",
       "    </tr>\n",
       "    <tr>\n",
       "      <th>4337</th>\n",
       "      <td>ham</td>\n",
       "      <td>Yes when is the appt again?</td>\n",
       "      <td>NaN</td>\n",
       "      <td>NaN</td>\n",
       "      <td>NaN</td>\n",
       "    </tr>\n",
       "    <tr>\n",
       "      <th>687</th>\n",
       "      <td>ham</td>\n",
       "      <td>Dear,Me at cherthala.in case u r coming cochin...</td>\n",
       "      <td>NaN</td>\n",
       "      <td>NaN</td>\n",
       "      <td>NaN</td>\n",
       "    </tr>\n",
       "    <tr>\n",
       "      <th>2827</th>\n",
       "      <td>ham</td>\n",
       "      <td>Wife.how she knew the time of murder exactly</td>\n",
       "      <td>NaN</td>\n",
       "      <td>NaN</td>\n",
       "      <td>NaN</td>\n",
       "    </tr>\n",
       "    <tr>\n",
       "      <th>4563</th>\n",
       "      <td>ham</td>\n",
       "      <td>Tell me again what your address is</td>\n",
       "      <td>NaN</td>\n",
       "      <td>NaN</td>\n",
       "      <td>NaN</td>\n",
       "    </tr>\n",
       "  </tbody>\n",
       "</table>\n",
       "</div>"
      ],
      "text/plain": [
       "       v1                                                 v2 Unnamed: 2  \\\n",
       "656   ham  Sun cant come to earth but send luv as rays. c...        NaN   \n",
       "4337  ham                        Yes when is the appt again?        NaN   \n",
       "687   ham  Dear,Me at cherthala.in case u r coming cochin...        NaN   \n",
       "2827  ham       Wife.how she knew the time of murder exactly        NaN   \n",
       "4563  ham                 Tell me again what your address is        NaN   \n",
       "\n",
       "     Unnamed: 3 Unnamed: 4  \n",
       "656         NaN        NaN  \n",
       "4337        NaN        NaN  \n",
       "687         NaN        NaN  \n",
       "2827        NaN        NaN  \n",
       "4563        NaN        NaN  "
      ]
     },
     "execution_count": 3,
     "metadata": {},
     "output_type": "execute_result"
    }
   ],
   "source": [
    "df.sample(5)"
   ]
  },
  {
   "cell_type": "code",
   "execution_count": 4,
   "metadata": {},
   "outputs": [],
   "source": [
    "# 1. Data cleaning\n",
    "# 2. EDA\n",
    "# 3. Text Preprocessing\n",
    "# 4. Model building\n",
    "# 5. Evaluation\n",
    "# 6. Imporvement\n",
    "# 7. Website \n",
    "# 8. Deploy"
   ]
  },
  {
   "cell_type": "markdown",
   "metadata": {},
   "source": [
    "## 1. Data cleaning"
   ]
  },
  {
   "cell_type": "code",
   "execution_count": 5,
   "metadata": {},
   "outputs": [
    {
     "name": "stdout",
     "output_type": "stream",
     "text": [
      "<class 'pandas.core.frame.DataFrame'>\n",
      "RangeIndex: 5572 entries, 0 to 5571\n",
      "Data columns (total 5 columns):\n",
      " #   Column      Non-Null Count  Dtype \n",
      "---  ------      --------------  ----- \n",
      " 0   v1          5572 non-null   object\n",
      " 1   v2          5572 non-null   object\n",
      " 2   Unnamed: 2  50 non-null     object\n",
      " 3   Unnamed: 3  12 non-null     object\n",
      " 4   Unnamed: 4  6 non-null      object\n",
      "dtypes: object(5)\n",
      "memory usage: 217.8+ KB\n"
     ]
    }
   ],
   "source": [
    "df.info()"
   ]
  },
  {
   "cell_type": "code",
   "execution_count": 6,
   "metadata": {},
   "outputs": [],
   "source": [
    "# dropping unnecessary columns\n",
    "df.drop(columns=['Unnamed: 2','Unnamed: 3','Unnamed: 4'],inplace=True)"
   ]
  },
  {
   "cell_type": "code",
   "execution_count": 7,
   "metadata": {},
   "outputs": [
    {
     "data": {
      "text/html": [
       "<div>\n",
       "<style scoped>\n",
       "    .dataframe tbody tr th:only-of-type {\n",
       "        vertical-align: middle;\n",
       "    }\n",
       "\n",
       "    .dataframe tbody tr th {\n",
       "        vertical-align: top;\n",
       "    }\n",
       "\n",
       "    .dataframe thead th {\n",
       "        text-align: right;\n",
       "    }\n",
       "</style>\n",
       "<table border=\"1\" class=\"dataframe\">\n",
       "  <thead>\n",
       "    <tr style=\"text-align: right;\">\n",
       "      <th></th>\n",
       "      <th>v1</th>\n",
       "      <th>v2</th>\n",
       "    </tr>\n",
       "  </thead>\n",
       "  <tbody>\n",
       "    <tr>\n",
       "      <th>0</th>\n",
       "      <td>ham</td>\n",
       "      <td>Go until jurong point, crazy.. Available only ...</td>\n",
       "    </tr>\n",
       "    <tr>\n",
       "      <th>1</th>\n",
       "      <td>ham</td>\n",
       "      <td>Ok lar... Joking wif u oni...</td>\n",
       "    </tr>\n",
       "    <tr>\n",
       "      <th>2</th>\n",
       "      <td>spam</td>\n",
       "      <td>Free entry in 2 a wkly comp to win FA Cup fina...</td>\n",
       "    </tr>\n",
       "    <tr>\n",
       "      <th>3</th>\n",
       "      <td>ham</td>\n",
       "      <td>U dun say so early hor... U c already then say...</td>\n",
       "    </tr>\n",
       "    <tr>\n",
       "      <th>4</th>\n",
       "      <td>ham</td>\n",
       "      <td>Nah I don't think he goes to usf, he lives aro...</td>\n",
       "    </tr>\n",
       "  </tbody>\n",
       "</table>\n",
       "</div>"
      ],
      "text/plain": [
       "     v1                                                 v2\n",
       "0   ham  Go until jurong point, crazy.. Available only ...\n",
       "1   ham                      Ok lar... Joking wif u oni...\n",
       "2  spam  Free entry in 2 a wkly comp to win FA Cup fina...\n",
       "3   ham  U dun say so early hor... U c already then say...\n",
       "4   ham  Nah I don't think he goes to usf, he lives aro..."
      ]
     },
     "execution_count": 7,
     "metadata": {},
     "output_type": "execute_result"
    }
   ],
   "source": [
    "df.head()"
   ]
  },
  {
   "cell_type": "code",
   "execution_count": 8,
   "metadata": {},
   "outputs": [
    {
     "data": {
      "text/html": [
       "<div>\n",
       "<style scoped>\n",
       "    .dataframe tbody tr th:only-of-type {\n",
       "        vertical-align: middle;\n",
       "    }\n",
       "\n",
       "    .dataframe tbody tr th {\n",
       "        vertical-align: top;\n",
       "    }\n",
       "\n",
       "    .dataframe thead th {\n",
       "        text-align: right;\n",
       "    }\n",
       "</style>\n",
       "<table border=\"1\" class=\"dataframe\">\n",
       "  <thead>\n",
       "    <tr style=\"text-align: right;\">\n",
       "      <th></th>\n",
       "      <th>Target</th>\n",
       "      <th>text</th>\n",
       "    </tr>\n",
       "  </thead>\n",
       "  <tbody>\n",
       "    <tr>\n",
       "      <th>0</th>\n",
       "      <td>ham</td>\n",
       "      <td>Go until jurong point, crazy.. Available only ...</td>\n",
       "    </tr>\n",
       "    <tr>\n",
       "      <th>1</th>\n",
       "      <td>ham</td>\n",
       "      <td>Ok lar... Joking wif u oni...</td>\n",
       "    </tr>\n",
       "    <tr>\n",
       "      <th>2</th>\n",
       "      <td>spam</td>\n",
       "      <td>Free entry in 2 a wkly comp to win FA Cup fina...</td>\n",
       "    </tr>\n",
       "    <tr>\n",
       "      <th>3</th>\n",
       "      <td>ham</td>\n",
       "      <td>U dun say so early hor... U c already then say...</td>\n",
       "    </tr>\n",
       "    <tr>\n",
       "      <th>4</th>\n",
       "      <td>ham</td>\n",
       "      <td>Nah I don't think he goes to usf, he lives aro...</td>\n",
       "    </tr>\n",
       "  </tbody>\n",
       "</table>\n",
       "</div>"
      ],
      "text/plain": [
       "  Target                                               text\n",
       "0    ham  Go until jurong point, crazy.. Available only ...\n",
       "1    ham                      Ok lar... Joking wif u oni...\n",
       "2   spam  Free entry in 2 a wkly comp to win FA Cup fina...\n",
       "3    ham  U dun say so early hor... U c already then say...\n",
       "4    ham  Nah I don't think he goes to usf, he lives aro..."
      ]
     },
     "execution_count": 8,
     "metadata": {},
     "output_type": "execute_result"
    }
   ],
   "source": [
    "# renaming the columns\n",
    "df.rename(columns={'v1':'Target','v2':'text'},inplace=True)\n",
    "df.head()"
   ]
  },
  {
   "cell_type": "code",
   "execution_count": 9,
   "metadata": {},
   "outputs": [
    {
     "data": {
      "text/html": [
       "<div>\n",
       "<style scoped>\n",
       "    .dataframe tbody tr th:only-of-type {\n",
       "        vertical-align: middle;\n",
       "    }\n",
       "\n",
       "    .dataframe tbody tr th {\n",
       "        vertical-align: top;\n",
       "    }\n",
       "\n",
       "    .dataframe thead th {\n",
       "        text-align: right;\n",
       "    }\n",
       "</style>\n",
       "<table border=\"1\" class=\"dataframe\">\n",
       "  <thead>\n",
       "    <tr style=\"text-align: right;\">\n",
       "      <th></th>\n",
       "      <th>Target</th>\n",
       "      <th>text</th>\n",
       "    </tr>\n",
       "  </thead>\n",
       "  <tbody>\n",
       "    <tr>\n",
       "      <th>0</th>\n",
       "      <td>0</td>\n",
       "      <td>Go until jurong point, crazy.. Available only ...</td>\n",
       "    </tr>\n",
       "    <tr>\n",
       "      <th>1</th>\n",
       "      <td>0</td>\n",
       "      <td>Ok lar... Joking wif u oni...</td>\n",
       "    </tr>\n",
       "    <tr>\n",
       "      <th>2</th>\n",
       "      <td>1</td>\n",
       "      <td>Free entry in 2 a wkly comp to win FA Cup fina...</td>\n",
       "    </tr>\n",
       "    <tr>\n",
       "      <th>3</th>\n",
       "      <td>0</td>\n",
       "      <td>U dun say so early hor... U c already then say...</td>\n",
       "    </tr>\n",
       "    <tr>\n",
       "      <th>4</th>\n",
       "      <td>0</td>\n",
       "      <td>Nah I don't think he goes to usf, he lives aro...</td>\n",
       "    </tr>\n",
       "  </tbody>\n",
       "</table>\n",
       "</div>"
      ],
      "text/plain": [
       "   Target                                               text\n",
       "0       0  Go until jurong point, crazy.. Available only ...\n",
       "1       0                      Ok lar... Joking wif u oni...\n",
       "2       1  Free entry in 2 a wkly comp to win FA Cup fina...\n",
       "3       0  U dun say so early hor... U c already then say...\n",
       "4       0  Nah I don't think he goes to usf, he lives aro..."
      ]
     },
     "execution_count": 9,
     "metadata": {},
     "output_type": "execute_result"
    }
   ],
   "source": [
    "# Target mapping to numbers\n",
    "from sklearn.preprocessing import LabelEncoder\n",
    "encoder = LabelEncoder()\n",
    "\n",
    "\n",
    "df['Target']=encoder.fit_transform(df['Target'])\n",
    "df.head()"
   ]
  },
  {
   "cell_type": "code",
   "execution_count": 10,
   "metadata": {},
   "outputs": [
    {
     "data": {
      "text/plain": [
       "Target    0\n",
       "text      0\n",
       "dtype: int64"
      ]
     },
     "execution_count": 10,
     "metadata": {},
     "output_type": "execute_result"
    }
   ],
   "source": [
    "# Missing values\n",
    "df.isnull().sum()"
   ]
  },
  {
   "cell_type": "code",
   "execution_count": 11,
   "metadata": {},
   "outputs": [
    {
     "data": {
      "text/plain": [
       "(5572, 2)"
      ]
     },
     "execution_count": 11,
     "metadata": {},
     "output_type": "execute_result"
    }
   ],
   "source": [
    "# Duplicated values\n",
    "df.duplicated().sum()\n",
    "df.shape"
   ]
  },
  {
   "cell_type": "code",
   "execution_count": 12,
   "metadata": {},
   "outputs": [
    {
     "name": "stdout",
     "output_type": "stream",
     "text": [
      "(5169, 2)\n"
     ]
    }
   ],
   "source": [
    "df.drop_duplicates(keep='first',inplace=True)\n",
    "print(df.shape)"
   ]
  },
  {
   "cell_type": "markdown",
   "metadata": {},
   "source": [
    "## 2. EDA"
   ]
  },
  {
   "cell_type": "code",
   "execution_count": 13,
   "metadata": {},
   "outputs": [
    {
     "data": {
      "text/plain": [
       "Target\n",
       "0    4516\n",
       "1     653\n",
       "Name: count, dtype: int64"
      ]
     },
     "execution_count": 13,
     "metadata": {},
     "output_type": "execute_result"
    }
   ],
   "source": [
    "df.Target.value_counts()"
   ]
  },
  {
   "cell_type": "code",
   "execution_count": 14,
   "metadata": {},
   "outputs": [
    {
     "data": {
      "image/png": "[encoded data removed]",
      "text/plain": [
       "<Figure size 640x480 with 1 Axes>"
      ]
     },
     "metadata": {},
     "output_type": "display_data"
    }
   ],
   "source": [
    "import matplotlib.pyplot as plt\n",
    "plt.pie(df['Target'].value_counts(),labels=['ham','spam'],autopct=\"%0.2f\")\n",
    "plt.show()"
   ]
  },
  {
   "cell_type": "code",
   "execution_count": 15,
   "metadata": {},
   "outputs": [],
   "source": [
    "# Data is imbalanced"
   ]
  },
  {
   "cell_type": "code",
   "execution_count": 16,
   "metadata": {},
   "outputs": [
    {
     "data": {
      "text/html": [
       "<div>\n",
       "<style scoped>\n",
       "    .dataframe tbody tr th:only-of-type {\n",
       "        vertical-align: middle;\n",
       "    }\n",
       "\n",
       "    .dataframe tbody tr th {\n",
       "        vertical-align: top;\n",
       "    }\n",
       "\n",
       "    .dataframe thead th {\n",
       "        text-align: right;\n",
       "    }\n",
       "</style>\n",
       "<table border=\"1\" class=\"dataframe\">\n",
       "  <thead>\n",
       "    <tr style=\"text-align: right;\">\n",
       "      <th></th>\n",
       "      <th>Target</th>\n",
       "      <th>text</th>\n",
       "      <th>num_char</th>\n",
       "    </tr>\n",
       "  </thead>\n",
       "  <tbody>\n",
       "    <tr>\n",
       "      <th>0</th>\n",
       "      <td>0</td>\n",
       "      <td>Go until jurong point, crazy.. Available only ...</td>\n",
       "      <td>111</td>\n",
       "    </tr>\n",
       "    <tr>\n",
       "      <th>1</th>\n",
       "      <td>0</td>\n",
       "      <td>Ok lar... Joking wif u oni...</td>\n",
       "      <td>29</td>\n",
       "    </tr>\n",
       "    <tr>\n",
       "      <th>2</th>\n",
       "      <td>1</td>\n",
       "      <td>Free entry in 2 a wkly comp to win FA Cup fina...</td>\n",
       "      <td>155</td>\n",
       "    </tr>\n",
       "    <tr>\n",
       "      <th>3</th>\n",
       "      <td>0</td>\n",
       "      <td>U dun say so early hor... U c already then say...</td>\n",
       "      <td>49</td>\n",
       "    </tr>\n",
       "    <tr>\n",
       "      <th>4</th>\n",
       "      <td>0</td>\n",
       "      <td>Nah I don't think he goes to usf, he lives aro...</td>\n",
       "      <td>61</td>\n",
       "    </tr>\n",
       "  </tbody>\n",
       "</table>\n",
       "</div>"
      ],
      "text/plain": [
       "   Target                                               text  num_char\n",
       "0       0  Go until jurong point, crazy.. Available only ...       111\n",
       "1       0                      Ok lar... Joking wif u oni...        29\n",
       "2       1  Free entry in 2 a wkly comp to win FA Cup fina...       155\n",
       "3       0  U dun say so early hor... U c already then say...        49\n",
       "4       0  Nah I don't think he goes to usf, he lives aro...        61"
      ]
     },
     "execution_count": 16,
     "metadata": {},
     "output_type": "execute_result"
    }
   ],
   "source": [
    "df['num_char'] = df['text'].apply(len)\n",
    "df.head()"
   ]
  },
  {
   "cell_type": "code",
   "execution_count": 17,
   "metadata": {},
   "outputs": [],
   "source": [
    "# !pip install nltk\n",
    "# nltk.download('punkt')\n"
   ]
  },
  {
   "cell_type": "code",
   "execution_count": 18,
   "metadata": {},
   "outputs": [],
   "source": [
    "import nltk\n",
    "\n",
    "df['num_words']=df['text'].apply(lambda x: len(nltk.word_tokenize(x)))"
   ]
  },
  {
   "cell_type": "code",
   "execution_count": 19,
   "metadata": {},
   "outputs": [
    {
     "data": {
      "text/html": [
       "<div>\n",
       "<style scoped>\n",
       "    .dataframe tbody tr th:only-of-type {\n",
       "        vertical-align: middle;\n",
       "    }\n",
       "\n",
       "    .dataframe tbody tr th {\n",
       "        vertical-align: top;\n",
       "    }\n",
       "\n",
       "    .dataframe thead th {\n",
       "        text-align: right;\n",
       "    }\n",
       "</style>\n",
       "<table border=\"1\" class=\"dataframe\">\n",
       "  <thead>\n",
       "    <tr style=\"text-align: right;\">\n",
       "      <th></th>\n",
       "      <th>Target</th>\n",
       "      <th>text</th>\n",
       "      <th>num_char</th>\n",
       "      <th>num_words</th>\n",
       "    </tr>\n",
       "  </thead>\n",
       "  <tbody>\n",
       "    <tr>\n",
       "      <th>0</th>\n",
       "      <td>0</td>\n",
       "      <td>Go until jurong point, crazy.. Available only ...</td>\n",
       "      <td>111</td>\n",
       "      <td>24</td>\n",
       "    </tr>\n",
       "    <tr>\n",
       "      <th>1</th>\n",
       "      <td>0</td>\n",
       "      <td>Ok lar... Joking wif u oni...</td>\n",
       "      <td>29</td>\n",
       "      <td>8</td>\n",
       "    </tr>\n",
       "    <tr>\n",
       "      <th>2</th>\n",
       "      <td>1</td>\n",
       "      <td>Free entry in 2 a wkly comp to win FA Cup fina...</td>\n",
       "      <td>155</td>\n",
       "      <td>37</td>\n",
       "    </tr>\n",
       "    <tr>\n",
       "      <th>3</th>\n",
       "      <td>0</td>\n",
       "      <td>U dun say so early hor... U c already then say...</td>\n",
       "      <td>49</td>\n",
       "      <td>13</td>\n",
       "    </tr>\n",
       "    <tr>\n",
       "      <th>4</th>\n",
       "      <td>0</td>\n",
       "      <td>Nah I don't think he goes to usf, he lives aro...</td>\n",
       "      <td>61</td>\n",
       "      <td>15</td>\n",
       "    </tr>\n",
       "  </tbody>\n",
       "</table>\n",
       "</div>"
      ],
      "text/plain": [
       "   Target                                               text  num_char  \\\n",
       "0       0  Go until jurong point, crazy.. Available only ...       111   \n",
       "1       0                      Ok lar... Joking wif u oni...        29   \n",
       "2       1  Free entry in 2 a wkly comp to win FA Cup fina...       155   \n",
       "3       0  U dun say so early hor... U c already then say...        49   \n",
       "4       0  Nah I don't think he goes to usf, he lives aro...        61   \n",
       "\n",
       "   num_words  \n",
       "0         24  \n",
       "1          8  \n",
       "2         37  \n",
       "3         13  \n",
       "4         15  "
      ]
     },
     "execution_count": 19,
     "metadata": {},
     "output_type": "execute_result"
    }
   ],
   "source": [
    "df.head()"
   ]
  },
  {
   "cell_type": "code",
   "execution_count": 20,
   "metadata": {},
   "outputs": [],
   "source": [
    "df['num_sentence'] = df['text'].apply(lambda x:len(nltk.sent_tokenize(x)))"
   ]
  },
  {
   "cell_type": "code",
   "execution_count": 21,
   "metadata": {},
   "outputs": [
    {
     "data": {
      "text/html": [
       "<div>\n",
       "<style scoped>\n",
       "    .dataframe tbody tr th:only-of-type {\n",
       "        vertical-align: middle;\n",
       "    }\n",
       "\n",
       "    .dataframe tbody tr th {\n",
       "        vertical-align: top;\n",
       "    }\n",
       "\n",
       "    .dataframe thead th {\n",
       "        text-align: right;\n",
       "    }\n",
       "</style>\n",
       "<table border=\"1\" class=\"dataframe\">\n",
       "  <thead>\n",
       "    <tr style=\"text-align: right;\">\n",
       "      <th></th>\n",
       "      <th>Target</th>\n",
       "      <th>text</th>\n",
       "      <th>num_char</th>\n",
       "      <th>num_words</th>\n",
       "      <th>num_sentence</th>\n",
       "    </tr>\n",
       "  </thead>\n",
       "  <tbody>\n",
       "    <tr>\n",
       "      <th>0</th>\n",
       "      <td>0</td>\n",
       "      <td>Go until jurong point, crazy.. Available only ...</td>\n",
       "      <td>111</td>\n",
       "      <td>24</td>\n",
       "      <td>2</td>\n",
       "    </tr>\n",
       "    <tr>\n",
       "      <th>1</th>\n",
       "      <td>0</td>\n",
       "      <td>Ok lar... Joking wif u oni...</td>\n",
       "      <td>29</td>\n",
       "      <td>8</td>\n",
       "      <td>2</td>\n",
       "    </tr>\n",
       "    <tr>\n",
       "      <th>2</th>\n",
       "      <td>1</td>\n",
       "      <td>Free entry in 2 a wkly comp to win FA Cup fina...</td>\n",
       "      <td>155</td>\n",
       "      <td>37</td>\n",
       "      <td>2</td>\n",
       "    </tr>\n",
       "    <tr>\n",
       "      <th>3</th>\n",
       "      <td>0</td>\n",
       "      <td>U dun say so early hor... U c already then say...</td>\n",
       "      <td>49</td>\n",
       "      <td>13</td>\n",
       "      <td>1</td>\n",
       "    </tr>\n",
       "    <tr>\n",
       "      <th>4</th>\n",
       "      <td>0</td>\n",
       "      <td>Nah I don't think he goes to usf, he lives aro...</td>\n",
       "      <td>61</td>\n",
       "      <td>15</td>\n",
       "      <td>1</td>\n",
       "    </tr>\n",
       "  </tbody>\n",
       "</table>\n",
       "</div>"
      ],
      "text/plain": [
       "   Target                                               text  num_char  \\\n",
       "0       0  Go until jurong point, crazy.. Available only ...       111   \n",
       "1       0                      Ok lar... Joking wif u oni...        29   \n",
       "2       1  Free entry in 2 a wkly comp to win FA Cup fina...       155   \n",
       "3       0  U dun say so early hor... U c already then say...        49   \n",
       "4       0  Nah I don't think he goes to usf, he lives aro...        61   \n",
       "\n",
       "   num_words  num_sentence  \n",
       "0         24             2  \n",
       "1          8             2  \n",
       "2         37             2  \n",
       "3         13             1  \n",
       "4         15             1  "
      ]
     },
     "execution_count": 21,
     "metadata": {},
     "output_type": "execute_result"
    }
   ],
   "source": [
    "df.head()"
   ]
  },
  {
   "cell_type": "code",
   "execution_count": 22,
   "metadata": {},
   "outputs": [
    {
     "data": {
      "text/html": [
       "<div>\n",
       "<style scoped>\n",
       "    .dataframe tbody tr th:only-of-type {\n",
       "        vertical-align: middle;\n",
       "    }\n",
       "\n",
       "    .dataframe tbody tr th {\n",
       "        vertical-align: top;\n",
       "    }\n",
       "\n",
       "    .dataframe thead th {\n",
       "        text-align: right;\n",
       "    }\n",
       "</style>\n",
       "<table border=\"1\" class=\"dataframe\">\n",
       "  <thead>\n",
       "    <tr style=\"text-align: right;\">\n",
       "      <th></th>\n",
       "      <th>num_char</th>\n",
       "      <th>num_words</th>\n",
       "      <th>num_sentence</th>\n",
       "    </tr>\n",
       "  </thead>\n",
       "  <tbody>\n",
       "    <tr>\n",
       "      <th>count</th>\n",
       "      <td>5169.000000</td>\n",
       "      <td>5169.000000</td>\n",
       "      <td>5169.000000</td>\n",
       "    </tr>\n",
       "    <tr>\n",
       "      <th>mean</th>\n",
       "      <td>78.977945</td>\n",
       "      <td>18.455794</td>\n",
       "      <td>1.965564</td>\n",
       "    </tr>\n",
       "    <tr>\n",
       "      <th>std</th>\n",
       "      <td>58.236293</td>\n",
       "      <td>13.324758</td>\n",
       "      <td>1.448541</td>\n",
       "    </tr>\n",
       "    <tr>\n",
       "      <th>min</th>\n",
       "      <td>2.000000</td>\n",
       "      <td>1.000000</td>\n",
       "      <td>1.000000</td>\n",
       "    </tr>\n",
       "    <tr>\n",
       "      <th>25%</th>\n",
       "      <td>36.000000</td>\n",
       "      <td>9.000000</td>\n",
       "      <td>1.000000</td>\n",
       "    </tr>\n",
       "    <tr>\n",
       "      <th>50%</th>\n",
       "      <td>60.000000</td>\n",
       "      <td>15.000000</td>\n",
       "      <td>1.000000</td>\n",
       "    </tr>\n",
       "    <tr>\n",
       "      <th>75%</th>\n",
       "      <td>117.000000</td>\n",
       "      <td>26.000000</td>\n",
       "      <td>2.000000</td>\n",
       "    </tr>\n",
       "    <tr>\n",
       "      <th>max</th>\n",
       "      <td>910.000000</td>\n",
       "      <td>220.000000</td>\n",
       "      <td>38.000000</td>\n",
       "    </tr>\n",
       "  </tbody>\n",
       "</table>\n",
       "</div>"
      ],
      "text/plain": [
       "          num_char    num_words  num_sentence\n",
       "count  5169.000000  5169.000000   5169.000000\n",
       "mean     78.977945    18.455794      1.965564\n",
       "std      58.236293    13.324758      1.448541\n",
       "min       2.000000     1.000000      1.000000\n",
       "25%      36.000000     9.000000      1.000000\n",
       "50%      60.000000    15.000000      1.000000\n",
       "75%     117.000000    26.000000      2.000000\n",
       "max     910.000000   220.000000     38.000000"
      ]
     },
     "execution_count": 22,
     "metadata": {},
     "output_type": "execute_result"
    }
   ],
   "source": [
    "df[['num_char','num_words','num_sentence']].describe()"
   ]
  },
  {
   "cell_type": "code",
   "execution_count": 23,
   "metadata": {},
   "outputs": [
    {
     "data": {
      "text/html": [
       "<div>\n",
       "<style scoped>\n",
       "    .dataframe tbody tr th:only-of-type {\n",
       "        vertical-align: middle;\n",
       "    }\n",
       "\n",
       "    .dataframe tbody tr th {\n",
       "        vertical-align: top;\n",
       "    }\n",
       "\n",
       "    .dataframe thead th {\n",
       "        text-align: right;\n",
       "    }\n",
       "</style>\n",
       "<table border=\"1\" class=\"dataframe\">\n",
       "  <thead>\n",
       "    <tr style=\"text-align: right;\">\n",
       "      <th></th>\n",
       "      <th>num_char</th>\n",
       "      <th>num_words</th>\n",
       "      <th>num_sentence</th>\n",
       "    </tr>\n",
       "  </thead>\n",
       "  <tbody>\n",
       "    <tr>\n",
       "      <th>count</th>\n",
       "      <td>4516.000000</td>\n",
       "      <td>4516.000000</td>\n",
       "      <td>4516.000000</td>\n",
       "    </tr>\n",
       "    <tr>\n",
       "      <th>mean</th>\n",
       "      <td>70.459256</td>\n",
       "      <td>17.123782</td>\n",
       "      <td>1.820195</td>\n",
       "    </tr>\n",
       "    <tr>\n",
       "      <th>std</th>\n",
       "      <td>56.358207</td>\n",
       "      <td>13.493970</td>\n",
       "      <td>1.383657</td>\n",
       "    </tr>\n",
       "    <tr>\n",
       "      <th>min</th>\n",
       "      <td>2.000000</td>\n",
       "      <td>1.000000</td>\n",
       "      <td>1.000000</td>\n",
       "    </tr>\n",
       "    <tr>\n",
       "      <th>25%</th>\n",
       "      <td>34.000000</td>\n",
       "      <td>8.000000</td>\n",
       "      <td>1.000000</td>\n",
       "    </tr>\n",
       "    <tr>\n",
       "      <th>50%</th>\n",
       "      <td>52.000000</td>\n",
       "      <td>13.000000</td>\n",
       "      <td>1.000000</td>\n",
       "    </tr>\n",
       "    <tr>\n",
       "      <th>75%</th>\n",
       "      <td>90.000000</td>\n",
       "      <td>22.000000</td>\n",
       "      <td>2.000000</td>\n",
       "    </tr>\n",
       "    <tr>\n",
       "      <th>max</th>\n",
       "      <td>910.000000</td>\n",
       "      <td>220.000000</td>\n",
       "      <td>38.000000</td>\n",
       "    </tr>\n",
       "  </tbody>\n",
       "</table>\n",
       "</div>"
      ],
      "text/plain": [
       "          num_char    num_words  num_sentence\n",
       "count  4516.000000  4516.000000   4516.000000\n",
       "mean     70.459256    17.123782      1.820195\n",
       "std      56.358207    13.493970      1.383657\n",
       "min       2.000000     1.000000      1.000000\n",
       "25%      34.000000     8.000000      1.000000\n",
       "50%      52.000000    13.000000      1.000000\n",
       "75%      90.000000    22.000000      2.000000\n",
       "max     910.000000   220.000000     38.000000"
      ]
     },
     "execution_count": 23,
     "metadata": {},
     "output_type": "execute_result"
    }
   ],
   "source": [
    "# ham\n",
    "df[df['Target']==0][['num_char','num_words','num_sentence']].describe()"
   ]
  },
  {
   "cell_type": "code",
   "execution_count": 24,
   "metadata": {},
   "outputs": [
    {
     "data": {
      "text/html": [
       "<div>\n",
       "<style scoped>\n",
       "    .dataframe tbody tr th:only-of-type {\n",
       "        vertical-align: middle;\n",
       "    }\n",
       "\n",
       "    .dataframe tbody tr th {\n",
       "        vertical-align: top;\n",
       "    }\n",
       "\n",
       "    .dataframe thead th {\n",
       "        text-align: right;\n",
       "    }\n",
       "</style>\n",
       "<table border=\"1\" class=\"dataframe\">\n",
       "  <thead>\n",
       "    <tr style=\"text-align: right;\">\n",
       "      <th></th>\n",
       "      <th>num_char</th>\n",
       "      <th>num_words</th>\n",
       "      <th>num_sentence</th>\n",
       "    </tr>\n",
       "  </thead>\n",
       "  <tbody>\n",
       "    <tr>\n",
       "      <th>count</th>\n",
       "      <td>653.000000</td>\n",
       "      <td>653.000000</td>\n",
       "      <td>653.000000</td>\n",
       "    </tr>\n",
       "    <tr>\n",
       "      <th>mean</th>\n",
       "      <td>137.891271</td>\n",
       "      <td>27.667688</td>\n",
       "      <td>2.970904</td>\n",
       "    </tr>\n",
       "    <tr>\n",
       "      <th>std</th>\n",
       "      <td>30.137753</td>\n",
       "      <td>7.008418</td>\n",
       "      <td>1.488425</td>\n",
       "    </tr>\n",
       "    <tr>\n",
       "      <th>min</th>\n",
       "      <td>13.000000</td>\n",
       "      <td>2.000000</td>\n",
       "      <td>1.000000</td>\n",
       "    </tr>\n",
       "    <tr>\n",
       "      <th>25%</th>\n",
       "      <td>132.000000</td>\n",
       "      <td>25.000000</td>\n",
       "      <td>2.000000</td>\n",
       "    </tr>\n",
       "    <tr>\n",
       "      <th>50%</th>\n",
       "      <td>149.000000</td>\n",
       "      <td>29.000000</td>\n",
       "      <td>3.000000</td>\n",
       "    </tr>\n",
       "    <tr>\n",
       "      <th>75%</th>\n",
       "      <td>157.000000</td>\n",
       "      <td>32.000000</td>\n",
       "      <td>4.000000</td>\n",
       "    </tr>\n",
       "    <tr>\n",
       "      <th>max</th>\n",
       "      <td>224.000000</td>\n",
       "      <td>46.000000</td>\n",
       "      <td>9.000000</td>\n",
       "    </tr>\n",
       "  </tbody>\n",
       "</table>\n",
       "</div>"
      ],
      "text/plain": [
       "         num_char   num_words  num_sentence\n",
       "count  653.000000  653.000000    653.000000\n",
       "mean   137.891271   27.667688      2.970904\n",
       "std     30.137753    7.008418      1.488425\n",
       "min     13.000000    2.000000      1.000000\n",
       "25%    132.000000   25.000000      2.000000\n",
       "50%    149.000000   29.000000      3.000000\n",
       "75%    157.000000   32.000000      4.000000\n",
       "max    224.000000   46.000000      9.000000"
      ]
     },
     "execution_count": 24,
     "metadata": {},
     "output_type": "execute_result"
    }
   ],
   "source": [
    "# spam\n",
    "df[df['Target']==1][['num_char','num_words','num_sentence']].describe()"
   ]
  },
  {
   "cell_type": "code",
   "execution_count": 25,
   "metadata": {},
   "outputs": [
    {
     "data": {
      "text/plain": [
       "<Axes: xlabel='num_char', ylabel='Count'>"
      ]
     },
     "execution_count": 25,
     "metadata": {},
     "output_type": "execute_result"
    },
    {
     "data": {
      "image/png": "[encoded data removed]",
      "text/plain": [
       "<Figure size 640x480 with 1 Axes>"
      ]
     },
     "metadata": {},
     "output_type": "display_data"
    }
   ],
   "source": [
    "import seaborn as sns\n",
    "\n",
    "sns.histplot(df[df['Target']==0]['num_char'])\n",
    "sns.histplot(df[df['Target']==1]['num_char'],color='red')\n",
    "\n",
    "# the spam messages have large number of characters used"
   ]
  },
  {
   "cell_type": "code",
   "execution_count": 26,
   "metadata": {},
   "outputs": [
    {
     "data": {
      "text/plain": [
       "<seaborn.axisgrid.PairGrid at 0x238c86d6bd0>"
      ]
     },
     "execution_count": 26,
     "metadata": {},
     "output_type": "execute_result"
    },
    {
     "data": {
      "image/png": "[encoded data removed]",
      "text/plain": [
       "<Figure size 808.875x750 with 12 Axes>"
      ]
     },
     "metadata": {},
     "output_type": "display_data"
    }
   ],
   "source": [
    "sns.pairplot(df,hue='Target')"
   ]
  },
  {
   "cell_type": "code",
   "execution_count": 27,
   "metadata": {},
   "outputs": [
    {
     "data": {
      "text/plain": [
       "<Axes: >"
      ]
     },
     "execution_count": 27,
     "metadata": {},
     "output_type": "execute_result"
    },
    {
     "data": {
      "image/png": "[encoded data removed]",
      "text/plain": [
       "<Figure size 640x480 with 2 Axes>"
      ]
     },
     "metadata": {},
     "output_type": "display_data"
    }
   ],
   "source": [
    "# sns.heatmap(df.corr(),annot=True)\n",
    "# df.head()\n",
    "sns.heatmap(df[['Target','num_char','num_words','num_sentence']].corr(),annot=True)"
   ]
  },
  {
   "cell_type": "markdown",
   "metadata": {},
   "source": [
    "## 3. Data Preprocessing"
   ]
  },
  {
   "cell_type": "code",
   "execution_count": 28,
   "metadata": {},
   "outputs": [
    {
     "data": {
      "text/plain": [
       "'!\"#$%&\\'()*+,-./:;<=>?@[\\\\]^_`{|}~'"
      ]
     },
     "execution_count": 28,
     "metadata": {},
     "output_type": "execute_result"
    }
   ],
   "source": [
    "import string\n",
    "string.punctuation"
   ]
  },
  {
   "cell_type": "code",
   "execution_count": 29,
   "metadata": {},
   "outputs": [],
   "source": [
    "# common english stopwords\n",
    "import string\n",
    "\n",
    "english_stopwords = [\n",
    "    \"a\", \"about\", \"above\", \"after\", \"again\", \"against\", \"ain't\", \"all\", \"am\", \"an\", \"and\", \"any\", \"are\", \"aren't\",\n",
    "    \"as\", \"at\", \"be\", \"because\", \"been\", \"before\", \"being\", \"below\", \"between\", \"both\", \"but\", \"by\", \"can't\",\n",
    "    \"cannot\", \"could\", \"couldn't\", \"did\", \"didn't\", \"do\", \"does\", \"doesn't\", \"doing\", \"don't\", \"down\", \"during\",\n",
    "    \"each\", \"few\", \"for\", \"from\", \"further\", \"had\", \"hadn't\", \"has\", \"hasn't\", \"have\", \"haven't\", \"having\", \"he\",\n",
    "    \"he'd\", \"he'll\", \"he's\", \"her\", \"here\", \"here's\", \"hers\", \"herself\", \"him\", \"himself\", \"his\", \"how\", \"how's\",\n",
    "    \"i\", \"i'd\", \"i'll\", \"i'm\", \"i've\", \"if\", \"in\", \"into\", \"is\", \"isn't\", \"it\", \"it's\", \"its\", \"itself\", \"let's\",\n",
    "    \"me\", \"more\", \"most\", \"mustn't\", \"my\", \"myself\", \"no\", \"nor\", \"not\", \"of\", \"off\", \"on\", \"once\", \"only\", \"or\",\n",
    "    \"other\", \"ought\", \"our\", \"ours\", \"ourselves\", \"out\", \"over\", \"own\", \"same\", \"shan't\", \"she\", \"she'd\", \"she'll\",\n",
    "    \"she's\", \"should\", \"shouldn't\", \"so\", \"some\", \"such\", \"than\", \"that\", \"that's\", \"the\", \"their\", \"theirs\",\n",
    "    \"them\", \"themselves\", \"then\", \"there\", \"there's\", \"these\", \"they\", \"they'd\", \"they'll\", \"they're\", \"they've\",\n",
    "    \"this\", \"those\", \"through\", \"to\", \"too\", \"under\", \"until\", \"up\", \"very\", \"was\", \"wasn't\", \"we\", \"we'd\",\n",
    "    \"we'll\", \"we're\", \"we've\", \"were\", \"weren't\", \"what\", \"what's\", \"when\", \"when's\", \"where\", \"where's\",\n",
    "    \"which\", \"while\", \"who\", \"who's\", \"whom\", \"why\", \"why's\", \"will\", \"with\", \"won't\", \"would\", \"wouldn't\",\n",
    "    \"you\", \"you'd\", \"you'll\", \"you're\", \"you've\", \"your\", \"yours\", \"yourself\", \"yourselves\"\n",
    "]\n",
    "\n",
    "from nltk.stem.porter import PorterStemmer\n",
    "ps = PorterStemmer()\n",
    "def transform_txt(text):\n",
    "    # Lower case\n",
    "    text = text.lower()\n",
    "    # Tokenization\n",
    "    text = nltk.word_tokenize(text)\n",
    "    # Removing special characters\n",
    "    y = []\n",
    "    for i in text:\n",
    "        if i.isalnum():\n",
    "            y.append(i)\n",
    "     \n",
    "    # Removing stop words and punctuations\n",
    "    text = y[:] # we have to clone the list \n",
    "    y.clear()\n",
    "    for i in text:\n",
    "        if i not in english_stopwords and i not in string.punctuation:\n",
    "            y.append(i)\n",
    "            \n",
    "    text = y[:]\n",
    "    y.clear()\n",
    "    # stemming --> reducing the words to their stem form\n",
    "    # ex: jumping --> jump\n",
    "    \n",
    "    for i in text:\n",
    "        y.append(ps.stem(i))\n",
    "    \n",
    "    \n",
    "    return \" \".join(y)"
   ]
  },
  {
   "cell_type": "code",
   "execution_count": 30,
   "metadata": {},
   "outputs": [
    {
     "data": {
      "text/plain": [
       "'free rington text first 87131 poli text get 87131 true tone help 0845 2814032 16 1st free tone txt stop'"
      ]
     },
     "execution_count": 30,
     "metadata": {},
     "output_type": "execute_result"
    }
   ],
   "source": [
    "\n",
    "transform_txt(df['text'][400])"
   ]
  },
  {
   "cell_type": "code",
   "execution_count": 31,
   "metadata": {},
   "outputs": [],
   "source": [
    "df['transformed_text'] = df['text'].apply(transform_txt)"
   ]
  },
  {
   "cell_type": "code",
   "execution_count": 32,
   "metadata": {},
   "outputs": [
    {
     "data": {
      "text/html": [
       "<div>\n",
       "<style scoped>\n",
       "    .dataframe tbody tr th:only-of-type {\n",
       "        vertical-align: middle;\n",
       "    }\n",
       "\n",
       "    .dataframe tbody tr th {\n",
       "        vertical-align: top;\n",
       "    }\n",
       "\n",
       "    .dataframe thead th {\n",
       "        text-align: right;\n",
       "    }\n",
       "</style>\n",
       "<table border=\"1\" class=\"dataframe\">\n",
       "  <thead>\n",
       "    <tr style=\"text-align: right;\">\n",
       "      <th></th>\n",
       "      <th>Target</th>\n",
       "      <th>text</th>\n",
       "      <th>num_char</th>\n",
       "      <th>num_words</th>\n",
       "      <th>num_sentence</th>\n",
       "      <th>transformed_text</th>\n",
       "    </tr>\n",
       "  </thead>\n",
       "  <tbody>\n",
       "    <tr>\n",
       "      <th>0</th>\n",
       "      <td>0</td>\n",
       "      <td>Go until jurong point, crazy.. Available only ...</td>\n",
       "      <td>111</td>\n",
       "      <td>24</td>\n",
       "      <td>2</td>\n",
       "      <td>go jurong point crazi avail bugi n great world...</td>\n",
       "    </tr>\n",
       "    <tr>\n",
       "      <th>1</th>\n",
       "      <td>0</td>\n",
       "      <td>Ok lar... Joking wif u oni...</td>\n",
       "      <td>29</td>\n",
       "      <td>8</td>\n",
       "      <td>2</td>\n",
       "      <td>ok lar joke wif u oni</td>\n",
       "    </tr>\n",
       "    <tr>\n",
       "      <th>2</th>\n",
       "      <td>1</td>\n",
       "      <td>Free entry in 2 a wkly comp to win FA Cup fina...</td>\n",
       "      <td>155</td>\n",
       "      <td>37</td>\n",
       "      <td>2</td>\n",
       "      <td>free entri 2 wkli comp win fa cup final tkt 21...</td>\n",
       "    </tr>\n",
       "    <tr>\n",
       "      <th>3</th>\n",
       "      <td>0</td>\n",
       "      <td>U dun say so early hor... U c already then say...</td>\n",
       "      <td>49</td>\n",
       "      <td>13</td>\n",
       "      <td>1</td>\n",
       "      <td>u dun say earli hor u c alreadi say</td>\n",
       "    </tr>\n",
       "    <tr>\n",
       "      <th>4</th>\n",
       "      <td>0</td>\n",
       "      <td>Nah I don't think he goes to usf, he lives aro...</td>\n",
       "      <td>61</td>\n",
       "      <td>15</td>\n",
       "      <td>1</td>\n",
       "      <td>nah think goe usf live around though</td>\n",
       "    </tr>\n",
       "  </tbody>\n",
       "</table>\n",
       "</div>"
      ],
      "text/plain": [
       "   Target                                               text  num_char  \\\n",
       "0       0  Go until jurong point, crazy.. Available only ...       111   \n",
       "1       0                      Ok lar... Joking wif u oni...        29   \n",
       "2       1  Free entry in 2 a wkly comp to win FA Cup fina...       155   \n",
       "3       0  U dun say so early hor... U c already then say...        49   \n",
       "4       0  Nah I don't think he goes to usf, he lives aro...        61   \n",
       "\n",
       "   num_words  num_sentence                                   transformed_text  \n",
       "0         24             2  go jurong point crazi avail bugi n great world...  \n",
       "1          8             2                              ok lar joke wif u oni  \n",
       "2         37             2  free entri 2 wkli comp win fa cup final tkt 21...  \n",
       "3         13             1                u dun say earli hor u c alreadi say  \n",
       "4         15             1               nah think goe usf live around though  "
      ]
     },
     "execution_count": 32,
     "metadata": {},
     "output_type": "execute_result"
    }
   ],
   "source": [
    "df.head()"
   ]
  },
  {
   "cell_type": "code",
   "execution_count": 33,
   "metadata": {},
   "outputs": [
    {
     "name": "stdout",
     "output_type": "stream",
     "text": [
      "{'free': 191, 'entri': 21, '2': 155, 'wkli': 9, 'comp': 8, 'win': 48, 'fa': 2, 'cup': 3, 'final': 14, 'tkt': 2, '21st': 1, 'may': 6, 'text': 122, '87121': 2, 'receiv': 31, 'question': 9, 'std': 6, 'txt': 141, 'rate': 26, 't': 58, 'c': 45, 'appli': 24, '08452810075over18': 1, 'freemsg': 14, 'hey': 5, 'darl': 2, '3': 20, 'week': 49, 'now': 164, 'word': 21, 'back': 20, 'like': 12, 'fun': 8, 'still': 5, 'tb': 1, 'ok': 5, 'xxx': 10, 'chg': 2, 'send': 60, 'rcv': 2, 'winner': 13, 'valu': 8, 'network': 26, 'custom': 42, 'select': 26, 'receivea': 1, 'prize': 82, 'reward': 9, 'claim': 98, 'call': 320, 'code': 27, 'kl341': 1, 'valid': 21, '12': 3, 'hour': 4, 'mobil': 114, '11': 3, 'month': 5, 'u': 119, 'r': 24, 'entitl': 6, 'updat': 14, 'latest': 30, 'colour': 14, 'camera': 23, 'co': 3, '08002986030': 1, 'six': 2, 'chanc': 22, 'cash': 51, '100': 14, 'pound': 19, 'csh11': 1, 'cost': 24, '6day': 1, 'tsandc': 1, 'repli': 103, 'hl': 3, '4': 97, 'info': 11, 'urgent': 57, 'won': 59, '1': 28, 'membership': 1, 'jackpot': 1, '81010': 1, 'lccltd': 1, 'pobox': 11, '4403ldnw1a7rw18': 1, 'xxxmobilemovieclub': 1, 'use': 12, 'credit': 18, 'click': 5, 'wap': 9, 'link': 6, 'next': 16, 'messag': 42, 'http': 18, 'england': 7, 'v': 4, 'macedonia': 1, 'dont': 9, 'miss': 8, 'news': 8, 'ur': 119, 'nation': 11, 'team': 2, '87077': 8, 'eg': 11, 'tri': 37, 'wale': 1, 'scotland': 1, 'poboxox36504w45wq': 1, 'thank': 16, 'subscript': 5, 'rington': 30, 'uk': 20, 'charg': 22, 'pleas': 51, 'confirm': 1, 'ye': 12, '07732584351': 1, 'rodger': 1, 'burn': 1, 'msg': 35, 're': 9, 'sm': 22, 'nokia': 57, 'camcord': 15, '08000930705': 16, 'deliveri': 18, 'tomorrow': 10, 'ac': 4, 'sptv': 2, 'new': 64, 'jersey': 1, 'devil': 1, 'detroit': 1, 'red': 1, 'wing': 1, 'play': 14, 'ice': 1, 'hockey': 1, 'correct': 4, 'incorrect': 1, 'end': 24, 'congrat': 6, 'year': 9, 'special': 16, 'cinema': 2, 'pass': 5, '09061209465': 2, 'suprman': 2, 'matrix3': 2, 'starwars3': 2, 'etc': 6, '150pm': 4, 'advis': 2, 'follow': 10, 'recent': 4, 'review': 3, 'mob': 20, 'award': 55, 'bonu': 17, '09066364589': 1, 'complimentari': 11, 'trip': 3, 'eurodisinc': 1, 'trav': 1, 'aco': 1, 'entry41': 1, 'di': 1, 'morefrmmob': 1, 'shracomorsglsuplt': 1, '10': 7, 'ls1': 1, '3aj': 1, 'hear': 3, 'come': 5, 'ken': 1, 'stuff': 1, 'servic': 64, 'repres': 6, '0800': 9, '169': 1, '6031': 1, 'guarante': 42, 'wait': 17, 'collect': 45, 'simpli': 2, 'password': 2, '85069': 1, 'verifi': 2, 'get': 74, 'usher': 1, 'britney': 1, 'fml': 1, 'gent': 2, 'contact': 56, 'last': 12, 'weekend': 13, 'draw': 35, 'show': 33, 'k52': 3, '12hr': 16, '150ppm': 29, 'holiday': 27, 'flight': 6, 'inc': 7, 'speak': 7, 'live': 22, 'oper': 11, 'privat': 16, '2004': 7, 'account': 18, 'statement': 15, '07742676969': 1, '786': 3, 'unredeem': 3, 'point': 15, '08719180248': 1, 'identifi': 15, '45239': 2, 'expir': 17, 'caller': 12, 'landlin': 30, '09064019788': 1, 'box42wr29c': 1, 'today': 33, 'voda': 5, 'number': 35, '7548': 1, '350': 2, 'match': 14, '08712300220': 6, 'quot': 6, '4041': 1, 'standard': 6, 'app': 4, 'sunshin': 5, 'quiz': 9, 'q': 2, 'top': 14, 'soni': 5, 'dvd': 5, 'player': 10, 'know': 19, 'countri': 2, 'algarv': 1, 'ansr': 2, 'sp': 6, 'tyron': 2, 'want': 31, 'laid': 4, 'tonight': 3, 'real': 12, 'dog': 12, 'locat': 5, 'sent': 10, 'direct': 10, 'join': 18, 'largest': 4, 'bt': 5, 'txting': 7, 'gravel': 1, '69888': 2, 'nt': 1, 'ec2a': 4, '150p': 26, 'chat': 38, 'svc': 1, 'hardcor': 2, 'go': 32, '69988': 1, 'noth': 4, 'must': 5, 'age': 9, 'yr': 14, 'randi': 2, 'sexi': 14, 'femal': 1, 'local': 5, 'luv': 5, 'netcollex': 4, 'ltd': 11, '08700621170150p': 2, 'per': 41, 'stop': 104, 'annonc': 1, '07046744435': 1, 'arrang': 2, '0871277810810': 1, 'bootydeli': 1, 'invit': 10, 'friend': 13, 'see': 16, 'frnd': 5, '62468': 5, 'bangbab': 1, 'order': 17, 'way': 1, 'download': 7, 'content': 14, 'goto': 5, 'bangb': 1, 'tv': 3, 'menu': 1, 's89': 1, 'freephon': 4, '0808': 1, '145': 1, '4742': 1, 'uniqu': 2, 'enough': 2, 'find': 21, '30th': 1, 'august': 2, '500': 19, '89545': 3, '2optout': 4, 'meet': 5, 'dream': 2, 'partner': 5, 'soon': 2, 'career': 1, 'flyng': 1, 'start': 12, 'horo': 2, 'star': 3, 'sign': 2, 'ari': 1, 'someon': 13, 'can': 25, 'date': 26, 'even': 7, 'flirt': 5, 'just': 67, '10p': 13, 'name': 15, 'sam': 2, '25': 3, '18': 20, 'recd': 3, 'thirtyeight': 1, 'penc': 3, '447801259231': 1, 'secret': 7, 'admir': 7, 'look': 9, 'make': 11, 'reveal': 12, 'think': 11, '09058094597': 1, 'congratul': 12, 'cd': 11, 'voucher': 28, '125gift': 2, 'music': 15, '87066': 10, 'tnc': 7, 'offer': 33, 'video': 29, 'handset': 6, '750': 17, 'anytim': 12, 'min': 45, 'unlimit': 10, 'realli': 1, 'horni': 7, 'nake': 1, 'hot': 13, '69698': 2, 'unsubscrib': 17, 'chang': 1, 'choos': 9, 'club': 19, '87070': 1, 'club4': 1, 'po': 24, 'box1146': 1, 'mk45': 1, '2wt': 1, 'singl': 5, 'chart': 3, 'qualiti': 2, 'hmv': 4, 'genuin': 1, 'answer': 6, 'easi': 10, '86688': 14, 'phone': 52, 'upgrad': 4, 'pay': 2, 'sim': 2, 'card': 4, 'loyalti': 6, '0845': 3, '021': 2, 'blind': 2, '4u': 4, 'rodds1': 1, 'aberdeen': 1, 'unit': 1, 'kingdom': 1, 'check': 4, 'hide': 1, 'themob': 5, 'newest': 3, 'game': 20, 'tone': 63, 'gossip': 1, 'babe': 10, 'sport': 7, 'keep': 5, 'fit': 1, 'funki': 1, '82468': 2, 'smart': 2, 'weekli': 20, '85222': 1, 'cs': 35, 'winnersclub': 1, 'box': 26, '84': 1, 'm26': 3, '3uz': 3, 'decemb': 4, '08002986906': 3, 'germani': 3, 'minut': 12, 'fix': 2, 'line': 33, 'via': 3, 'access': 8, '0844': 2, '861': 2, '85': 2, 'prepay': 2, 'valentin': 3, 'day': 26, 'take': 16, 'lifetim': 2, '83600': 3, 'rcvd': 5, 'fanci': 12, 'shag': 2, 'xxuk': 1, 'suzi': 1, 'websit': 1, 'x': 8, 'current': 11, 'maxim': 7, 'cc': 6, '08708800282': 1, 'xma': 15, 'motorola': 10, 'sonyericsson': 5, 'bluetooth': 7, 'doubl': 13, '1000': 9, 'orang': 24, 'mobileupd8': 13, '08000839402': 12, 'discount': 6, 'rp176781': 1, '08717205546': 1, 'refer': 4, 't91': 1, 'gbp': 1, '09057039994': 1, '6month': 1, 'avail': 2, '4mth': 2, 'half': 12, 'price': 15, 'rental': 11, '11mth': 3, 'mobilesdirect': 2, '08000938767': 2, 'or2stoptxt': 2, 'first': 6, '87131': 3, 'poli': 22, 'true': 2, 'help': 12, '2814032': 1, '16': 18, '1st': 19, 'cal': 1, 'l': 1, '09064012103': 1, 'box334sk38ch': 2, 'competit': 2, '80086': 2, 'logo': 6, 'lover': 2, 'heart': 3, 'love': 10, 'name1': 2, 'name2': 2, 'mobno': 2, 'adam': 2, 'eve': 5, '07123456789': 2, 'yahoo': 2, 'pobox36504w45wq': 5, 'txtno': 2, 'ad': 4, 'enter': 15, '09111032124': 1, 'pobox12n146tf150p': 1, '09058094455': 1, 'land': 16, '3650': 1, '09066382422': 1, 'ave': 2, '3min': 3, 'vari': 4, 'close': 3, '300603': 1, 'post': 4, 'bcm4284': 1, 'ldn': 7, 'wc1n3xx': 3, 'loan': 3, 'purpos': 2, 'homeown': 1, 'tenant': 2, 'welcom': 8, 'previous': 1, 'refus': 2, '1956669': 1, 'upgrdcentr': 1, '0207': 2, '153': 2, '26th': 1, 'juli': 2, 'okmail': 1, 'dear': 16, 'dave': 2, 'notic': 3, 'tenerif': 7, '5000': 4, '09061743806': 2, 'tc': 7, 'sae': 18, 'box326': 2, 'cw25wx': 4, 'moan': 1, '69888nyt': 1, 'activ': 5, 'term': 8, 'condit': 4, 'visit': 5, '09050002311': 1, 'b4280703': 1, '40gb': 6, 'ipod': 10, 'mp3': 5, '83355': 4, 'ibhltd': 3, 'ldnw15h': 3, 'boltblu': 1, 'mono': 4, 'poly3': 1, 'cha': 2, 'slide': 1, 'yeah': 1, 'slow': 1, 'jamz': 1, 'toxic': 1, 'renew': 3, 'pin': 1, 'tgxxrz': 1, '2nd': 19, 'attempt': 22, 'box95qu': 3, 'worth': 8, '85023': 4, 'savamob': 8, 'member': 6, 'sub': 5, 'unsub': 3, 'reciev': 1, 'within': 4, '24hr': 2, 'channel': 1, 'teletext': 1, 'pg': 1, '2003': 13, '07815296484': 1, '800': 13, '08718738001': 2, '41782': 1, 'monthlysubscript': 1, 'csc': 1, 'web': 2, 'age16': 6, '2stop': 1, 'call09050000327': 2, 'us': 7, 'ring': 5, '09050005321': 1, '150': 9, 'textand': 1, '08002988890': 1, 'shop': 10, 'spree': 6, 'custcar': 7, '08715705022': 3, '2000': 2, '08712402050': 2, '10ppm': 2, 'ag': 2, 'promo': 2, '07753741225': 1, '08715203677': 1, '42478': 1, 'import': 11, 'announc': 5, '542': 3, '0825': 1, 'xclusiv': 1, 'clubsaisai': 1, '2morow': 1, 'soire': 1, 'zouk': 1, 'nichol': 1, 'rose': 1, 'ladi': 3, '22': 1, 'kick': 3, 'euro2004': 3, 'kept': 2, 'result': 2, 'daili': 3, 'remov': 7, '83222': 2, 'textbuddi': 2, 'guy': 5, 'area': 8, '25p': 7, 'search': 2, 'postcod': 3, 'one': 10, '89693': 2, 'vodafon': 5, '4882': 1, '09064019014': 1, 'holder': 6, 'pc': 6, 'ts': 9, '80062': 5, '08715203694': 1, '40533': 2, 'rstm': 2, 'sw7': 2, '3ss': 2, '88800': 1, '89034': 1, 'premium': 2, '08718711108': 1, 'sun0819': 1, 'hello': 4, 'seem': 1, 'cool': 1, 'gr8': 7, '20': 3, 'everi': 26, 'wk': 17, 'opt': 10, '08452810071': 1, 'hi': 15, 'sue': 2, 'old': 2, 'work': 3, 'lapdanc': 1, 'sex': 10, 'bedroom': 1, 'textoper': 3, 'g2': 1, '1da': 1, '150ppmsg': 1, 'forward': 4, '448712404000': 1, '08712404000': 1, 'immedi': 5, 'fantast': 7, 'deck': 1, 'alert': 5, '08714712388': 1, '09071512433': 2, 'b4': 6, '050703': 2, 'csbcm4235wc1n3xx': 2, 'callcost': 2, 'mobilesvari': 2, '50': 3, '08714712394': 1, 'email': 2, 'alertfrom': 1, 'jeri': 1, 'stewarts': 1, '2kbsubject': 1, 'prescripiton': 1, 'drvgsto': 1, 'listen': 3, '123': 1, 'nokia6650': 2, 'txtauction': 5, '81151': 2, '4t': 3, 'ctxt': 2, 'subscrib': 9, 'best': 7, 'helplin': 2, '08706091795': 2, 'realiz': 1, '40': 2, 'thousand': 1, 'run': 1, 'around': 2, 'tattoo': 1, 'premier': 2, 'romant': 1, 'pari': 3, 'night': 7, 'book': 6, '08704439680t': 1, 'unclaim': 1, '09066368327': 1, 'claimcod': 1, 'm39m51': 1, 'citi': 3, 'break': 5, 'summer': 7, 'store': 7, '88039': 2, 'skilgm': 3, 'tscs087147403231winawk': 2, '0578': 2, 'ever': 3, 'thought': 1, 'good': 12, 'life': 3, 'perfect': 1, 'commun': 2, '5': 8, 'polyphon': 4, '087018728737': 1, 'toppoli': 1, 'tune': 1, 'subpoli': 2, '81618': 1, 'pole': 1, '08718727870': 2, '14thmarch': 1, 'availa': 1, 'pobox84': 4, 'm263uz': 2, 'no1': 5, '8077': 1, 'tell': 13, 'mate': 8, '36504': 4, 'w45wq': 3, 'cashto': 2, '08000407165': 2, 'getstop': 2, '88222': 2, 'php': 2, 'rg21': 1, '4jx': 1, 'either': 8, 'gift': 16, 'outbid': 1, 'simonwatson5120': 1, 'shinco': 1, 'plyr': 1, 'bid': 8, 'notif': 1, 'smsservic': 1, 'yourinclus': 1, 'pl': 8, '3qxj9': 3, 'extra': 6, '9ae': 3, 'alfi': 3, 'moon': 3, 'children': 3, 'need': 11, 'song': 3, 'm8': 4, 'chariti': 9, '8007': 19, 'zed': 6, '08701417012': 3, 'profit': 3, 'cust': 3, 'care': 6, '07821230901': 1, 'five': 3, '08002888812': 2, 'wed': 2, '09066350750': 2, 'ibiza': 4, 'await': 24, '434': 3, 'sk3': 3, '8wp': 3, 'ppm': 4, 'talk': 5, 'fall': 1, 'world': 2, 'discreet': 2, 'vip': 4, '83110': 1, 'suppli': 2, 'virgin': 2, 'record': 6, 'mysteri': 1, '09061104283': 1, 'approx': 1, '07808': 1, 'xxxxxx': 1, '08719899217': 1, '41685': 2, 'posh': 1, 'bird': 1, 'chap': 1, 'user': 8, 'trial': 1, 'prod': 1, 'champney': 1, 'put': 1, 'address': 3, 'dob': 1, 'asap': 6, 'ta': 1, '0721072': 1, 'till': 2, 'drop': 1, '10k': 2, '5k': 1, 'travel': 1, 'ntt': 7, 'cr01327bt': 1, 'fixedlin': 1, 'liverpool': 2, 'mid': 1, '09058094565': 2, 'remind': 2, 'alreadi': 1, 'paid': 1, 'mymobi': 1, 'lastest': 1, 'stereophon': 1, 'marley': 1, 'dizze': 1, 'racal': 1, 'libertin': 1, 'stroke': 1, 'nookii': 1, 'bookmark': 1, 'januari': 1, 'male': 3, 'sale': 4, 'gay': 6, 'cheaper': 2, 'cheap': 3, 'peak': 2, '08712460324': 8, 'money': 4, 'lucki': 8, '88600': 2, 'give': 8, 'away': 4, 'box403': 1, 'w1t1ji': 1, 'matthew': 1, '09063440451': 1, 'lux': 2, 'ppm150': 1, 'box334': 1, 'sk38xh': 4, '09061749602': 1, '528': 1, 'hp20': 1, '1yf': 1, 'touch': 1, 'folk': 1, 'compani': 3, 'enjoy': 12, '08718720201': 5, 'filthi': 2, 'stori': 1, 'girl': 9, '09050001808': 1, 'm95': 1, 'valid12hr': 2, '3g': 3, 'videophon': 3, '09063458130': 2, 'videochat': 3, 'wid': 3, 'java': 3, 'dload': 3, 'polyph': 2, 'nolin': 3, 'rentl': 3, 'panason': 1, 'bluetoothhdset': 1, 'doublemin': 1, 'doubletxt': 1, 'contract': 4, 'guess': 6, 'somebodi': 2, 'secretli': 2, 'wan': 11, 'na': 10, '09065394514': 1, 'datebox1282essexcm61xn': 2, '09058097218': 1, '6': 5, 'ls15hb': 2, 'bloke': 1, 'zoe': 1, 'kickoff': 1, 'inform': 9, 'euro': 2, 'eastend': 1, 'flower': 2, 'dot': 1, 'compar': 1, 'violet': 1, 'tulip': 1, 'lili': 1, 'd': 1, 'e': 1, 'f': 3, '84025': 2, 'lot': 2, 'peopl': 3, 'regist': 5, 'replys150': 1, 'ask': 5, 'cant': 3, '09058091854': 1, 'box385': 1, 'm6': 1, '6wu': 1, '09050003091': 2, 'c52': 2, 'xchat': 5, 'sipix': 3, 'digit': 6, '09061221061': 1, '28day': 1, 'box177': 1, 'm221bp': 1, '2yr': 1, 'warranti': 1, 'p': 2, '09061790121': 2, '3030': 1, 'b': 10, 'receipt': 3, 'an': 6, 'elvi': 1, 'presley': 1, 'birthday': 1, 'o2': 5, 'log': 7, 'onto': 7, 'surpris': 5, '449050000301': 1, '09050000301': 1, 'bore': 3, 'speed': 1, 'speedchat': 2, '80155': 1, 'em': 1, 'swap': 1, 'chatter': 1, 'chat80155': 1, 'rcd': 1, '08000776320': 2, 'part': 8, 'survey': 1, 'yesterday': 3, 'howev': 1, 'wish': 2, '80160': 1, 'hmv1': 1, 'forget': 2, 'place': 4, 'mani': 3, 'request': 2, '08707808226': 1, 'let': 3, 'notifi': 1, 'luck': 6, 'futur': 3, 'market': 1, '84122': 1, '08450542832': 1, 'readi': 5, '4fil': 2, 'sexual': 1, 'cute': 1, '69911': 1, 'm': 2, 'got': 6, 'wrc': 1, 'ralli': 2, 'oz': 1, 'lucozad': 1, 'energi': 2, 'le': 1, '61200': 1, 'pack': 1, 'itcould': 1, 'pic': 19, 'jordan': 3, 'celeb': 2, '087016248': 1, 'voicemail': 2, '08719181503': 1, 'choic': 2, 'deliv': 4, 'door': 1, 'exp': 1, '30apr': 1, '08719181513': 1, 'nok': 1, '87021': 2, 'txtin': 2, '4info': 2, 'complet': 2, 'accommod': 1, 'variou': 1, 'global': 1, '84128': 3, '08712405020': 4, '08712402779': 1, 'hungri': 2, 'feel': 2, '08718730555': 1, 'set': 3, '09096102316': 1, 'cum': 4, '2moro': 1, 'jane': 1, 'xx': 4, 'jamster': 3, 'videosound': 1, 'gold': 1, '09701213186': 1, 'lion': 2, 'lionm': 2, 'lionp': 2, 'origin': 3, 'n': 7, '3gbp': 3, 'potter': 2, 'phoenix': 2, 'harri': 2, 'among': 2, 'reader': 2, 'balanc': 2, 'sang': 1, '80': 1, 'free2day': 1, 'st': 1, 'georg': 1, '89080': 1, 'sauci': 2, '0870241182716': 1, 'fantasi': 8, '08707509020': 4, '20p': 5, '1327': 5, 'croydon': 5, 'cr9': 5, '5wb': 5, '0870': 6, 'k': 1, 'bear': 2, 'nick': 1, 'tom': 1, 'pete': 1, 'dick': 1, 'fact': 1, 'type': 1, 'photo': 3, 'upload': 2, '08718730666': 2, 'linerent': 4, 'win150ppmx3age16': 1, 'arsen': 3, 'dartboard': 1, 'trebl': 1, 'textpod': 2, 'pod': 3, 'optin': 1, 'what': 1, 'bbc': 1, 'optout': 4, 'help08714742804': 1, 'clair': 2, 'havin': 1, 'borin': 1, 'time': 18, 'alon': 3, '2nite': 4, '09099725823': 1, 'hope': 4, 'bought': 1, '09066362231': 3, '07xxxxxxxxx': 3, 'reach': 5, '07801543489': 1, 'luci': 2, 'hubbi': 2, 'meetin': 1, 'fri': 2, 'hotel': 4, 'cumin': 1, 'leav': 2, '2day': 4, '09099726395': 1, '80488': 2, 'jsco': 2, 'high': 3, '2channel': 1, 'leadership': 1, 'skill': 1, 'strong': 1, 'psychic': 1, 'vote': 1, 'sing': 2, 'along': 1, 'karaok': 1, 'brand': 4, 'arriv': 6, 'shortli': 3, 'instal': 1, 'brows': 1, 'artist': 1, '7250i': 3, 'auction': 15, '86021': 5, 'plu': 7, '7250': 2, '08719899230': 1, 'olymp': 1, 'pro': 1, '08701237397': 1, 'redeem': 1, '09058094599': 1, 'stay': 3, '250': 4, 'british': 2, 'london': 4, 'bx': 1, '526': 1, 'sw73ss': 2, 'eeri': 5, 'rpli': 5, 'titl': 6, 'dracula': 2, 'ghost': 2, 'addamsfa': 2, 'munster': 2, 'exorcist': 2, 'twilight': 2, '0a': 1, 'allow': 1, 'bill': 7, 'respons': 2, 'feelin': 1, 'kinda': 1, 'lnli': 1, 'jst': 1, 'cam': 2, 'mobi': 4, '82242': 3, 'msg150p': 2, '2rcv': 2, 'hlp': 2, '08712317606': 2, 'action': 4, '08712405022': 2, 'rgent': 1, 'lookin': 1, 'daytim': 1, 'wiv': 2, 'busti': 1, 'marri': 2, 'woman': 1, 'sort': 1, '09099726429': 1, 'janinexx': 1, '09050001295': 1, 'a21': 1, 'monthli': 1, '0089': 1, 'four': 1, '09063442151': 1, 'sorri': 3, '81303': 2, 'suffici': 1, 'hard': 2, '121': 2, 'connect': 3, '09094646899': 1, 'biggest': 2, 'vu': 1, 'bcm1896wc1n3xx': 1, 'wow': 2, 'boy': 2, '2007': 2, 'tour': 2, 'ticket': 3, 'trackmarqu': 1, 'vipclub4u': 1, 'mandi': 1, 'sullivan': 1, 'hotmix': 1, 'fm': 1, 'chosen': 2, 'easter': 1, 'telephon': 1, '09041940223': 1, 'transfer': 1, 'els': 1, 'bahama': 2, 'callfreefon': 1, '08081560665': 1, 'cruis': 1, '07786200117': 1, 'conact': 1, 'pobox12n146tf15': 1, '07734396839': 1, 'ibh': 1, 'nokia6600': 1, 'buy': 2, 'space': 1, 'invad': 1, 'orig': 1, 'arcad': 4, 'consol': 1, 'press': 2, '0': 2, 'purchas': 2, 'big': 2, 'brother': 1, 'comput': 5, 'cro1327': 1, 'foley': 1, 'excit': 2, 'eye': 1, '1225': 1, '3100': 2, 'hottest': 1, 'straight': 2, 'wet': 2, '89555': 2, 'g696ga': 2, 'hack': 1, 'backdoor': 1, 'room': 1, 'fraction': 1, 'neo69': 1, '09050280520': 1, 'pm': 2, 'dp': 1, 'bcm': 1, '8027': 1, 'upto': 2, '12mth': 2, '08001950382': 4, '08718726970': 1, 'nearli': 1, 'ban': 1, '09058094594': 1, '0776xxxxxxx': 2, '18yr': 3, '09061743811': 1, 'abta': 3, '326': 2, '09090900040': 1, 'extrem': 1, 'dirti': 1, 'offic': 1, 'right': 3, 'total': 2, 'privaci': 1, 'sic': 1, '60p': 1, 'fone': 5, 'wild': 1, 'ill': 1, 'hurri': 1, 'im': 7, 'stop2stop': 1, '80182': 2, '08452810073': 2, 'detail': 7, '08715500022': 1, 'rpl': 1, 'cnl': 1, '08702490080': 1, '09066358152': 2, 'person': 3, 'prompt': 2, 'vpod': 1, '09090204448': 1, 'mind': 2, 'minapn': 1, 'ls278bb': 1, 'well': 3, 'done': 2, 'costa': 4, 'del': 6, 'sol': 4, '09050090044': 3, 'toclaim': 3, 'pobox334': 3, 'stockport': 3, 'max10min': 3, '09065394973': 1, '31': 1, '2005': 1, '2006': 1, 'fifa': 1, 'held': 1, '87239': 4, '09061743810': 1, '61610': 2, 'provid': 3, 'yo': 2, 'open': 1, 'great': 9, 'freefon': 3, '08006344447': 1, 'tsc': 2, '09094100151': 1, 'cast': 1, 'aom': 2, 'box61': 1, 'm60': 1, '1er': 1, '09066362220': 1, 'box97n7qp': 3, 'gender': 2, 'wither': 1, 'men': 3, 'web2mobil': 1, 'box139': 1, 'la32wu': 1, 'txtx': 1, '85233': 1, 'offici': 3, 'flag': 5, 'yer': 2, '84199': 1, 'eng': 2, 'box39822': 2, 'w111wx': 2, 'inclus': 4, 'box420': 1, 'ip4': 3, '5we': 3, 'hol': 2, 'med': 2, 'stamp': 1, 'self': 1, 'envelop': 1, 'drink': 1, '113': 1, 'bray': 1, 'wicklow': 1, 'eir': 1, 'saturday': 4, 'skillgam': 1, '1winaweek': 1, '150ppermesssubscript': 1, 'b4u': 1, 'marsm': 1, '08717168528': 1, 'buffi': 1, 'satisfi': 2, 'home': 2, 'pix': 2, 'qlynnbv': 1, 'help08700621170150p': 1, 'cross': 3, 'ntwk': 4, 'bundl': 1, 'deal': 1, 'also': 3, 'avbl': 1, 'mf': 1, 's': 3, '08714712379': 1, 'ref': 2, 'k718': 1, '09065069120': 1, 'ya': 1, '4goten': 1, 'bout': 1, 'scammer': 1, 'though': 1, 'regular': 1, 'respond': 2, 'prem': 1, 'no': 1, 'bewar': 1, '2morro': 1, 'passion': 1, '09099726481': 1, 'dena': 1, 'r836': 1, '09065069154': 1, 'splashmobil': 1, 'subscrit': 1, '300p': 2, 'heard': 2, 'u4': 2, 'rude': 2, '01223585334': 1, '2c': 1, 'gettin': 1, '8552': 2, '2end': 1, '88877': 2, '88066': 3, 'lost': 2, '3pound': 1, 'upd8': 2, '2stoptx': 1, '08718738034': 1, '21870000': 2, 'mailbox': 2, '21': 1, '09056242159': 2, 'retriev': 2, 'pub': 2, 'street': 2, 'duchess': 2, 'cornwal': 2, '008704050406': 2, 'arrow': 1, '08718726971': 1, 'tddnewslett': 1, 'thedailydraw': 1, 'helen': 1, 'dozen': 1, 'prizeswith': 1, '09066368753': 1, '97n7qp': 1, 'restrict': 1, 'buddi': 1, 'sir': 1, '80082': 3, '08712402902': 1, 'spook': 5, 'halloween': 3, '08701417012150p': 2, 'footbal': 1, 'sky': 3, 'gamestar': 1, 'score': 2, '88088': 1, 'monoc': 1, 'polyc': 1, 'stream': 1, '0871212025016': 1, 'town': 2, 'adult': 3, 'becausethey': 1, 'pobox1': 1, 'w14rg': 1, 'babi': 2, 'nasti': 1, 'thing': 2, 'filthyguy': 1, 'bitch': 1, 'slo': 2, '4msg': 1, 'gotto': 1, 'login': 1, '08702840625': 1, 'creat': 1, 'page': 1, 'read': 1, 'wrote': 1, 'opinion': 1, 'sppok': 1, '09066612661': 3, 'complementari': 1, 'wa14': 1, '2px': 1, 'sender': 1, 'hvae': 1, '24': 2, 'acl03530150pm': 2, '6230': 1, '83383': 1, 'text82228': 1, 'mini': 1, 'snap': 1, 'quizclub': 1, 'rwm': 1, 'brought': 2, 'gmw': 1, 'bx420': 2, 'amaz': 2, 'picsfree1': 2, 'vid': 1, 'keyword': 1, 'ten': 1, 'tarot': 1, '85555': 1, 'horniest': 1, 'instruct': 2, 'knock': 2, 'whose': 1, '0870737910216yr': 1, '077xxx': 1, '09066362206': 1, 'w4': 1, '5wq': 1, 'norm': 2, 'park': 1, '69696': 2, 'nyt': 2, '3lp': 2, 'hit': 4, 'includ': 2, 'ab': 1, 'sara': 1, 'fan': 1, 'str': 1, 'europ': 1, '10th': 1, 'sept': 3, 'ba128nnfwfly150ppm': 1, 'fastest': 2, 'grow': 2, 'tariff': 5, '2stoptxt': 2, 'luxuri': 2, 'canari': 2, 'island': 2, '20m12aq': 1, 'jame': 1, '28': 3, 'eh74rr': 1, 'women': 1, 'instantli': 1, '69969': 1, 'bcmsfwc1n3xx': 1, 'burger': 2, 'king': 3, 'footi': 1, 'stadium': 1, 'larg': 1, 'super': 3, 'walk': 1, 'littl': 3, 'child': 1, 'afraid': 1, 'dark': 1, 'becom': 1, 'teenag': 1, 'bin': 1, 'instant': 1, '08715203028': 1, '9th': 1, 'fav': 1, '2u': 1, 'breathe1': 1, 'crazyin': 1, 'sleepingwith': 1, 'finest': 1, 'ymca': 1, 'pobox365o4w45wq': 1, 'interflora': 2, 'åòit': 1, 'late': 1, 'christma': 1, '505060': 1, 'midnight': 1, 'romcapspam': 1, 'everyon': 2, 'presenc': 1, 'sinc': 2, 'warm': 2, 'outgo': 1, 'bring': 2, 'breath': 1, '08712103738': 1, '09058099801': 1, 'b4190604': 1, '7876150ppm': 1, 'crazi': 4, 'frog': 1, 'sound': 2, 'mad1': 1, 'mad2': 1, '88888': 2, 'realiti': 2, 'porn': 4, '69855': 1, '50p': 3, 'stopbcm': 1, 'sf': 1, 'yhl': 1, '09058094454': 1, 'yet': 2, 'packag': 1, '54': 1, 'resubmit': 1, 'expiri': 1, '08712400200': 1, '08718723815': 1, '08714714011': 1, 'drive': 2, 'anyon': 1, 'slower': 1, 'idiot': 1, 'faster': 1, 'maniac': 1, 'profession': 1, 'tiger': 1, 'wood': 1, 'pt2': 1, '87575': 1, 'improv': 2, '400min': 1, '69200': 1, 'hr': 1, 'chrgd': 1, '2exit': 1, 'ton': 1, 'hunk': 1, 'abroad': 1, 'lone': 1, 'xxsp': 1, 'stopcost': 1, '08712400603': 1, 'agent': 1, 'load': 1, 'goodi': 1, 'mat': 1, 'lord': 1, 'return': 1, 'lotr': 2, 'june': 1, 'soundtrack': 1, 'stdtxtrate': 1, '28th': 1, 'feb': 1, '08708034412': 2, 'str8': 1, 'classic': 1, 'lookatm': 2, 'clip': 1, '35p': 1, 'better': 1, 'mmsto': 1, '32323': 1, 'vat': 1, 'cancel': 5, '09053750005': 1, '08718725756': 1, '140ppm': 1, '08712101358': 1, '09066358361': 1, 'y87': 1, 'x29': 1, '09065989180': 1, '08718726978': 1, '44': 1, '7732584351': 1, '3510i': 5, 'deliveredtomorrow': 3, '300': 5, '09058097189': 1, '09061221066': 2, 'fromm': 2, '5226': 1, 'hava': 1, '1131': 1, 'rct': 1, 'thnq': 1, 'adrian': 1, 'rgd': 1, 'vatian': 1, 'pobox45w2tg150p': 2, '07090201529': 1, '09066364349': 1, 'lose': 1, 'mistak': 1, 'shortcod': 1, '08081263000': 1, '08712402972': 1, '09058095201': 1, 'never': 1, 'much': 1, 'came': 1, 'made': 1, 'truli': 2, 'wo': 2, '600': 1, '400': 1, 'deltomorrow': 1, '09066368470': 1, 'begin': 1, '24m': 1, 'smartcal': 1, '08448714184': 1, 'landlineonli': 1, 'mth': 4, 'save': 3, 'callback': 3, 'orno': 1, 'fink': 1, 'met': 1, '09099726553': 1, 'promis': 1, 'carli': 1, 'lkpobox177hp51fl': 1, 'movi': 2, 'film': 4, 'lingeri': 1, 'superb': 1, 'weddingfriend': 1, 'knicker': 1, 'beg': 1, '01223585236': 1, 'bloomberg': 1, 'center': 1, 'phone750': 1, 'wan2': 1, 'westlif': 1, 'unbreak': 1, 'untam': 1, 'unkempt': 1, 'dorothi': 1, 'bank': 2, 'granit': 2, 'issu': 2, 'explos': 2, 'pick': 6, 'nasdaq': 2, 'symbol': 2, 'cdgt': 2, '09071517866': 1, '150ppmpobox10183bhamb64x': 1, '10am': 1, '8pm': 1, 'thur': 2, 'sat': 2, 'sell': 1, 'fast': 1, 'rock': 1, 'chik': 1, 'filth': 1, 'saristar': 1, 'e14': 1, '9yt': 1, '08701752560': 1, '450p': 1, 'stop2': 1, '9061100010': 1, '1st4term': 1, 'mobcudb': 1, '09050000460': 1, 'j89': 1, 'box245c2150pm': 1, 'banneduk': 1, 'round': 1, 'highest': 1, 'maximum': 1, 'believ': 1, 'incred': 1, 'g': 1, 'learn': 1, 'blow': 1, 'o2fwd': 1, 'will': 1, 'strt': 1, 'ltdhelpdesk': 1, '02085076972': 1, '200': 3, '09066660100': 1, '2309': 1, 'unabl': 2, '07090298926': 1, 'html': 1, 'mfl': 1, 'wamma': 1, 'doggin': 1, 'promot': 1, '8714714': 1, 'x49': 1, 'txtstar': 1, '2night': 1, 'uve': 1, 'wildest': 1, '146tf150p': 1, 'class': 2, 'airport': 1, 'loung': 1, '09058095107': 1, '7': 3, 's3xi': 1, 'mila': 1, 'age23': 1, 'blond': 1, 'mtalk': 1, '5free': 1, 'increment': 1, 'help08718728876': 1, '08717895698': 1, 'mobstorequiz10ppm': 1, 'funk': 1, 'tones2u': 1, 'twink': 1, 'scalli': 1, 'skin': 1, 'jock': 1, '08712466669': 1, 'nat': 3, 'k61': 1, '12hour': 1, '74355': 1, 'iscom': 2, 'row': 1, 'blu': 2, 'concert': 1, 'novemb': 1, '09061104276': 1, '62220cncl': 1, 'stopc': 1, 'åòharri': 1, 'wml': 2, '37819': 1, 'oh': 1, 'god': 1, 'found': 1, 'glad': 1, 'xafter': 1, 'cst': 1, 'pictur': 1, '08719181259': 1, 'xxxxx': 1, 'real1': 1, 'pushbutton': 1, 'dontcha': 1, 'babygoodby': 1, 'golddigg': 1, 'webeburnin': 1, 'gnarl': 1, 'barkley': 1, 'secur': 1, 'unsecur': 1, 'ca': 1, '195': 1, '6669': 1, '09061743386': 2, 'ringtonek': 1, '84484': 1, 'housew': 1, '087104711148': 1, 'tripl': 1, 'echo': 1, 'dial': 1, 'bx526': 1, '09066364311': 1, '09065989182': 1, '08709501522': 1, '139': 1, 'la3': 1, '2wu': 1, '09064017305': 1, 'pobox75ldns7': 1, 'chase': 1, 'definit': 1, 'ignor': 1, 'kath': 1, 'manchest': 1, 'bad': 1, '08717111821': 1, 'season': 1, '2wk': 1, 'goal': 3, 'villa': 1, 'hero': 1, 'tip': 1, '07973788240': 1, '08715203649': 1, 'gsoh': 1, 'spam': 1, 'gigolo': 1, 'oncal': 1, 'mjzgroup': 1, '08707500020': 1, 'ukp': 1, '09061790125': 1, 'spjanuari': 1, 'simpson': 1, 'releas': 1, 'band': 1, 'die': 1, 'amanda': 1, 'regard': 1, 'tel': 1, '3680': 1, 'subject': 1, 'spanish': 2, '47': 1, 'po19': 1, '2ez': 1, 'cmon': 1, 'turn': 1, 'sticki': 1, '0796xxxxxx': 1, 'prizeawait': 1, 'left': 1, '07008009200': 1, 'indic': 2, '3750': 1, 'accid': 2, '3lion': 1, '69669': 1, 'normal': 1, 'gpr': 1, 'accordingli': 1, 'repeat': 1, 'block': 1, 'breaker': 1, 'delux': 1, 'format': 1, 'featur': 1, 'graphic': 1, 'bbdelux': 1, 'challeng': 1, '2find': 2, 'natalja': 1, '02': 1, 'kit': 1, 'strip': 1, '1013': 1, 'ig11': 1, 'oja': 1, '08712402578': 1, 'anonym': 1, 'mask': 1, 'potenti': 1, 'abus': 1, '09061744553': 1, 'polyh': 1, '0789xxxxxxx': 1, 'shi': 1, '09058091870': 1, 'landmark': 1, 'bob': 1, 'barri': 1, 'ben': 1, 'tonex': 1, 'anoth': 2, 'polo': 2, 'suit': 2, '373': 2, 'w1j': 2, '6hl': 2, 'busi': 2, '8000930705': 1, 'recpt': 1, 'process': 1, 'headset': 1, 'floppi': 1, 'snappi': 1, 'happi': 1, 'mg': 1, '89123': 1, 'explicit': 2, '30': 3, 'sec': 2, '02073162414': 2, 'proze': 1, 'norcorp': 1, 'item': 1, '7cfca1a': 1, 'wine': 1, '946': 1, 'wot': 1, 'cock': 1, 'man': 1, 'wife': 1, '89938': 1, 'string': 1, 'rec': 1, 'otbox': 1, '731': 1, 'la1': 1, '7w': 1, 'sexiest': 1, 'dirtiest': 1, '89070': 2, 'w8in': 1, '4utxt': 1, 'laugh': 1, 'logon': 1, '8883': 1, 'cm': 1, '4217': 1, 'w1a': 1, '6zf': 1, '09071512432': 1, '300603t': 1, 'mnth': 2, '86888': 2, '3hr': 2, 'txtstop': 2, 'cannam': 1, 'capit': 1, 'australia': 1, 'mquiz': 1, '7634': 1, '7684': 1, 'rip': 1, '08717509990': 1, 'randomli': 2, 'loyal': 2, '09066380611': 2, '08718738002': 1, '48922': 1, '07099833605': 1, 'chloe': 1, 'smash': 1, '07808726822': 1, 'rayman': 1, 'golf': 1, 'activ8': 1, 'key': 1, 'termsappli': 1, 'black': 1, 'continu': 1, 'support': 2, 'in2': 1, 'presid': 1, 'id': 1, '09066649731from': 1, '09061702893': 1, 'santa': 4, '09077818151': 1, '078498': 1, '08719180219': 1, 'fgkslpopw': 1, 'fgkslpo': 1, '08715203652': 1, '42810': 1, 'skip': 1, 'customercar': 1, '08718726270': 2, 'lyricalladi': 1, 'ou': 1, 'sn': 1, 'pobox202': 1, 'nr31': 1, '7z': 1, '450pw': 1, 'warner': 2, 'villag': 2, '83118': 1, 'colin': 1, 'farrel': 1, 'swat': 1, 'wkend': 1, 'popcorn': 1, 'kiosk': 1, 'mre': 1, 'henri': 2, 'simpl': 1, 'shot': 1, 'yard': 1, 'bergkamp': 1, 'margin': 1, '78': 1, 'sexychat': 1, 'ami': 1, 'coupl': 1, 'parti': 1, 'benefit': 1, 'train': 1, 'advisor': 1, 'diall': 1, '402': 1, 'meal': 1, 'dine': 1, 'experiencehttp': 1, '09058094507': 1, 'donat': 2, 'unicef': 1, 'asian': 1, 'tsunami': 1, 'disast': 1, 'fund': 1, 'goldvik': 1, 'phoni': 1, 'xxxx': 1, 'freeentri': 1, 'xt': 1, '08714712412': 1, '08715203685': 1, 'deepest': 1, 'darkest': 1, '09094646631': 1, 'natali': 1, 'wallpap': 2, '08701213186': 1, '83039': 1, 'accommodationvouch': 1, 'mustprovid': 1, '15541': 1, '5p': 1, 'tscs08714740323': 1, '1winawk': 1, '09066361921': 1, 'pink': 1, 'panther': 1, 'sugabab': 1, 'zebra': 1, 'anim': 1, 'badass': 1, 'hoodi': 1, 'resent': 1, 'previou': 1, 'fail': 1, 'due': 2, 'error': 1, 'queri': 1, 'customersqueri': 1, '08715205273': 1, 'vco': 1, '078': 1, 've': 1, 'garden': 1, 'bulb': 1, 'seed': 1, 'scotsman': 1, 'go2': 1, 'ree': 1, 'mayb': 2, 'compens': 1, '08715203656': 1, '42049': 1, 'someonon': 1, '09064015307': 1, '09061213237': 2, '177': 1, 'm227xi': 2, '09061790126': 1, 'textcomp': 1, 'subsequ': 1, '09095350301': 1, 'erot': 1, 'ecstaci': 1, 'dept': 1, '08717507382': 1, 'two': 1, 'radio': 1, 'coincid': 1, 'lead': 1, 'paus': 1, 'gr8prize': 1, '8800': 1, 'psp': 1, '80878': 1, '09058094583': 1, '32000': 1, 'legitimat': 1, 'efreefon': 1, 'wat': 1, 'polic': 1, 'station': 1, 'toilet': 1, 'stolen': 1, 'cop': 1, 'sparkl': 1, '45': 1, '0121': 1, '2025050': 1, 'ringtoneåá': 1, '09050000332': 1, '09064017295': 1, '2p': 2, '08448350055': 1, 'marvel': 1, 'ultim': 1, 'spider': 1, '83338': 1, 'll': 1, '8ball': 1, '07808247860': 1, '08719899229': 1, '40411': 1, '49557': 1, 'gsex': 1, '2667': 1, 'wc1n': 1, '3xx': 1, '3mobil': 1, 'chatlin': 1, 'inclu': 1, 'india': 1, 'serv': 1, 'sed': 1, 'l8er': 1, 'mega': 1, 'giv': 1, 'shit': 1, 'bailiff': 1, 'o': 1, 'hous': 1, '087187272008': 1, 'now1': 1}\n",
      "2232\n"
     ]
    }
   ],
   "source": [
    "word_count = {}\n",
    "for msg in df[df['Target']==1]['transformed_text'].tolist():\n",
    "    words = msg.split()\n",
    "    for word in words:\n",
    "        # If the word is already in the dictionary, increment its count\n",
    "        if word in word_count:\n",
    "            word_count[word] += 1\n",
    "        # If the word is not in the dictionary, initialize its count to 1\n",
    "        else:\n",
    "            word_count[word] = 1\n",
    "    \n",
    "    \n",
    "    \n",
    "# creating a map\n",
    "print(word_count)\n",
    "print(len(word_count))"
   ]
  },
  {
   "cell_type": "code",
   "execution_count": 34,
   "metadata": {},
   "outputs": [
    {
     "data": {
      "image/png": "[encoded data removed]",
      "text/plain": [
       "<Figure size 640x480 with 1 Axes>"
      ]
     },
     "metadata": {},
     "output_type": "display_data"
    }
   ],
   "source": [
    "from collections import Counter\n",
    "sns.barplot(x=pd.DataFrame(Counter(word_count).most_common(30))[0],y=pd.DataFrame(Counter(word_count).most_common(30))[1])\n",
    "plt.xticks(rotation='vertical')\n",
    "plt.show()"
   ]
  },
  {
   "cell_type": "markdown",
   "metadata": {},
   "source": [
    "## 4. Model Building"
   ]
  },
  {
   "cell_type": "markdown",
   "metadata": {},
   "source": [
    "### i. Bag of words method"
   ]
  },
  {
   "cell_type": "code",
   "execution_count": 35,
   "metadata": {},
   "outputs": [],
   "source": [
    "\n",
    "from sklearn.feature_extraction.text import CountVectorizer,TfidfVectorizer\n",
    "cv = CountVectorizer()"
   ]
  },
  {
   "cell_type": "markdown",
   "metadata": {},
   "source": [
    "### ii. Tfidvectorizer"
   ]
  },
  {
   "cell_type": "code",
   "execution_count": 36,
   "metadata": {},
   "outputs": [],
   "source": [
    "tfid = TfidfVectorizer()"
   ]
  },
  {
   "cell_type": "code",
   "execution_count": 37,
   "metadata": {},
   "outputs": [
    {
     "data": {
      "text/plain": [
       "array([[0., 0., 0., ..., 0., 0., 0.],\n",
       "       [0., 0., 0., ..., 0., 0., 0.],\n",
       "       [0., 0., 0., ..., 0., 0., 0.],\n",
       "       ...,\n",
       "       [0., 0., 0., ..., 0., 0., 0.],\n",
       "       [0., 0., 0., ..., 0., 0., 0.],\n",
       "       [0., 0., 0., ..., 0., 0., 0.]])"
      ]
     },
     "execution_count": 37,
     "metadata": {},
     "output_type": "execute_result"
    }
   ],
   "source": [
    "# X = cv.fit_transform(df['transformed_text']).toarray()\n",
    "X = tfid.fit_transform(df['transformed_text']).toarray()\n",
    "\n",
    "X"
   ]
  },
  {
   "cell_type": "code",
   "execution_count": 38,
   "metadata": {},
   "outputs": [
    {
     "data": {
      "text/plain": [
       "array([0, 0, 1, ..., 0, 0, 0])"
      ]
     },
     "execution_count": 38,
     "metadata": {},
     "output_type": "execute_result"
    }
   ],
   "source": [
    "X.shape\n",
    "y = df['Target'].values\n",
    "y"
   ]
  },
  {
   "cell_type": "code",
   "execution_count": 39,
   "metadata": {},
   "outputs": [],
   "source": [
    "from sklearn.model_selection import train_test_split\n",
    "\n",
    "X_train,X_test,y_train,y_test = train_test_split(X,y,test_size=0.2,random_state=2)"
   ]
  },
  {
   "cell_type": "code",
   "execution_count": 40,
   "metadata": {},
   "outputs": [],
   "source": [
    "from sklearn.naive_bayes import GaussianNB,MultinomialNB,BernoulliNB\n",
    "from sklearn.metrics import accuracy_score,confusion_matrix,precision_score\n",
    "\n",
    "glb = GaussianNB()\n",
    "mlb = MultinomialNB()\n",
    "blb = BernoulliNB()\n"
   ]
  },
  {
   "cell_type": "code",
   "execution_count": 41,
   "metadata": {},
   "outputs": [
    {
     "name": "stdout",
     "output_type": "stream",
     "text": [
      "0.8762088974854932\n",
      "[[793 103]\n",
      " [ 25 113]]\n",
      "0.5231481481481481\n"
     ]
    }
   ],
   "source": [
    "glb.fit(X_train,y_train)\n",
    "y_pred1 = glb.predict(X_test)\n",
    "\n",
    "print(accuracy_score(y_test,y_pred1))\n",
    "print(confusion_matrix(y_test,y_pred1))\n",
    "print(precision_score(y_test,y_pred1))"
   ]
  },
  {
   "cell_type": "code",
   "execution_count": 42,
   "metadata": {},
   "outputs": [
    {
     "name": "stdout",
     "output_type": "stream",
     "text": [
      "0.9564796905222437\n",
      "[[896   0]\n",
      " [ 45  93]]\n",
      "1.0\n"
     ]
    }
   ],
   "source": [
    "mlb.fit(X_train,y_train)\n",
    "y_pred2 = mlb.predict(X_test)\n",
    "\n",
    "print(accuracy_score(y_test,y_pred2))\n",
    "print(confusion_matrix(y_test,y_pred2))\n",
    "print(precision_score(y_test,y_pred2))"
   ]
  },
  {
   "cell_type": "code",
   "execution_count": 43,
   "metadata": {},
   "outputs": [
    {
     "name": "stdout",
     "output_type": "stream",
     "text": [
      "0.9709864603481625\n",
      "[[893   3]\n",
      " [ 27 111]]\n",
      "0.9736842105263158\n"
     ]
    }
   ],
   "source": [
    "blb.fit(X_train,y_train)\n",
    "y_pred3 = blb.predict(X_test)\n",
    "\n",
    "print(accuracy_score(y_test,y_pred3))\n",
    "print(confusion_matrix(y_test,y_pred3))\n",
    "print(precision_score(y_test,y_pred3))"
   ]
  },
  {
   "cell_type": "code",
   "execution_count": 44,
   "metadata": {},
   "outputs": [],
   "source": [
    "# we can go with bernouli or multinomial naive bayes\n",
    "# we will choose multinomail as precision is 1\n",
    "\n",
    "# tfidf --> mlb"
   ]
  },
  {
   "cell_type": "code",
   "execution_count": 45,
   "metadata": {},
   "outputs": [
    {
     "name": "stdout",
     "output_type": "stream",
     "text": [
      "0.9729206963249516\n",
      "[[896   0]\n",
      " [ 28 110]]\n",
      "1.0\n"
     ]
    }
   ],
   "source": [
    "# model improve\n",
    "\n",
    "# change max_features parameter of tfidf\n",
    "tfid = TfidfVectorizer(max_features=3000)\n",
    "\n",
    "X = tfid.fit_transform(df['transformed_text']).toarray()\n",
    "X_train,X_test,y_train,y_test = train_test_split(X,y,test_size=0.2,random_state=2)\n",
    "mlb = MultinomialNB()\n",
    "\n",
    "mlb.fit(X_train,y_train)\n",
    "y_pred2 = mlb.predict(X_test)\n",
    "\n",
    "print(accuracy_score(y_test,y_pred2))\n",
    "print(confusion_matrix(y_test,y_pred2))\n",
    "print(precision_score(y_test,y_pred2))\n",
    "\n"
   ]
  },
  {
   "cell_type": "code",
   "execution_count": 46,
   "metadata": {},
   "outputs": [],
   "source": [
    "import pickle\n",
    "pickle.dump(tfid,open('vectorizer.pkl','wb'))\n",
    "pickle.dump(mlb,open('model.pkl','wb'))"
   ]
  }
 ],
 "metadata": {
  "kernelspec": {
   "display_name": "Python 3",
   "language": "python",
   "name": "python3"
  },
  "language_info": {
   "codemirror_mode": {
    "name": "ipython",
    "version": 3
   },
   "file_extension": ".py",
   "mimetype": "text/x-python",
   "name": "python",
   "nbconvert_exporter": "python",
   "pygments_lexer": "ipython3",
   "version": "3.11.5"
  },
  "orig_nbformat": 4
 },
 "nbformat": 4,
 "nbformat_minor": 2
}
